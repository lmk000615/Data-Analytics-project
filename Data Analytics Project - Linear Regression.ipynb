{
 "cells": [
  {
   "cell_type": "markdown",
   "id": "62063a4f",
   "metadata": {},
   "source": [
    "## Linear Regression ## "
   ]
  },
  {
   "cell_type": "code",
   "execution_count": 1,
   "id": "0699d74e",
   "metadata": {},
   "outputs": [],
   "source": [
    "from random import sample\n",
    "import pandas as pd\n",
    "import numpy as np\n",
    "import statsmodels.api as sm\n",
    "\n",
    "%matplotlib inline\n",
    "\n",
    "import numpy as np\n",
    "import matplotlib.pyplot as plt\n",
    "import matplotlib as mpl\n",
    "from matplotlib import colors\n",
    "\n",
    "from sklearn.model_selection import train_test_split\n",
    "\n",
    "from sklearn.linear_model import LogisticRegression\n",
    "from sklearn.neighbors import KNeighborsClassifier\n",
    "\n",
    "from sklearn.model_selection import cross_val_score\n",
    "from sklearn.model_selection import cross_validate\n",
    "from sklearn.model_selection import ShuffleSplit\n",
    "\n",
    "from sklearn.ensemble import RandomForestClassifier\n",
    "#import graphviz\n",
    "from sklearn.model_selection import train_test_split\n",
    "from sklearn.pipeline import make_pipeline\n",
    "from sklearn.preprocessing import StandardScaler\n",
    "from sklearn.linear_model import LinearRegression\n",
    "from sklearn.metrics import r2_score\n",
    "from re import S\n",
    "from sklearn.metrics import mean_squared_error\n",
    "\n",
    "\n",
    "from sklearn import linear_model\n",
    "#from regressors import stats\n",
    "#import statsmodels.api as sm\n"
   ]
  },
  {
   "cell_type": "code",
   "execution_count": 2,
   "id": "bcb6ffef",
   "metadata": {},
   "outputs": [],
   "source": [
    "data = pd.read_csv(\"subway_neighbor_df.csv\")\n",
    "data = data.dropna()"
   ]
  },
  {
   "cell_type": "code",
   "execution_count": 3,
   "id": "7c2231a5",
   "metadata": {},
   "outputs": [
    {
     "name": "stdout",
     "output_type": "stream",
     "text": [
      "Datetime\n",
      "Stop Name\n",
      "Line\n",
      "Neighborhood\n",
      "Entries\n",
      "Time\n",
      "Average_Flow\n",
      "Normalized_Flow\n",
      "Housing units\n",
      "Percent white\n",
      "Moderately rent-burdened households, moderate income\n",
      "Pre-foreclosure notice rate (per 1,000 1-4 family and condo properties)\n",
      "Median sales price per unit, condominium (2018$)\n",
      "Home purchase loans to LMI borrowers (% of home purchase loans)\n",
      "Refinance loan rate (per 1,000 properties)\n",
      "Single-person households\n",
      "Residential units within 12 mile of a subway station\n",
      "Racial diversity index\n"
     ]
    }
   ],
   "source": [
    "for col in data.columns:\n",
    "    print(col)"
   ]
  },
  {
   "cell_type": "code",
   "execution_count": 4,
   "id": "fcf979c9",
   "metadata": {},
   "outputs": [
    {
     "data": {
      "text/html": [
       "<div>\n",
       "<style scoped>\n",
       "    .dataframe tbody tr th:only-of-type {\n",
       "        vertical-align: middle;\n",
       "    }\n",
       "\n",
       "    .dataframe tbody tr th {\n",
       "        vertical-align: top;\n",
       "    }\n",
       "\n",
       "    .dataframe thead th {\n",
       "        text-align: right;\n",
       "    }\n",
       "</style>\n",
       "<table border=\"1\" class=\"dataframe\">\n",
       "  <thead>\n",
       "    <tr style=\"text-align: right;\">\n",
       "      <th></th>\n",
       "      <th>Datetime</th>\n",
       "      <th>Stop Name</th>\n",
       "      <th>Line</th>\n",
       "      <th>Neighborhood</th>\n",
       "      <th>Entries</th>\n",
       "      <th>Time</th>\n",
       "      <th>Average_Flow</th>\n",
       "      <th>Normalized_Flow</th>\n",
       "      <th>Housing units</th>\n",
       "      <th>Percent white</th>\n",
       "      <th>Moderately rent-burdened households, moderate income</th>\n",
       "      <th>Pre-foreclosure notice rate (per 1,000 1-4 family and condo properties)</th>\n",
       "      <th>Median sales price per unit, condominium (2018$)</th>\n",
       "      <th>Home purchase loans to LMI borrowers (% of home purchase loans)</th>\n",
       "      <th>Refinance loan rate (per 1,000 properties)</th>\n",
       "      <th>Single-person households</th>\n",
       "      <th>Residential units within 12 mile of a subway station</th>\n",
       "      <th>Racial diversity index</th>\n",
       "    </tr>\n",
       "  </thead>\n",
       "  <tbody>\n",
       "    <tr>\n",
       "      <th>0</th>\n",
       "      <td>2017-02-04 08:00:00</td>\n",
       "      <td>1 Av</td>\n",
       "      <td>Canarsie</td>\n",
       "      <td>Lower East Side/Chinatown</td>\n",
       "      <td>1205.0</td>\n",
       "      <td>08:00:00</td>\n",
       "      <td>1893.282754</td>\n",
       "      <td>0.636461</td>\n",
       "      <td>78557</td>\n",
       "      <td>31.0</td>\n",
       "      <td>38.1</td>\n",
       "      <td>11.4</td>\n",
       "      <td>1326500</td>\n",
       "      <td>31.8</td>\n",
       "      <td>7.2</td>\n",
       "      <td>46.4</td>\n",
       "      <td>85.5</td>\n",
       "      <td>0.71</td>\n",
       "    </tr>\n",
       "    <tr>\n",
       "      <th>1</th>\n",
       "      <td>2017-02-04 12:00:00</td>\n",
       "      <td>1 Av</td>\n",
       "      <td>Canarsie</td>\n",
       "      <td>Lower East Side/Chinatown</td>\n",
       "      <td>2920.0</td>\n",
       "      <td>12:00:00</td>\n",
       "      <td>2555.773227</td>\n",
       "      <td>1.142511</td>\n",
       "      <td>78557</td>\n",
       "      <td>31.0</td>\n",
       "      <td>38.1</td>\n",
       "      <td>11.4</td>\n",
       "      <td>1326500</td>\n",
       "      <td>31.8</td>\n",
       "      <td>7.2</td>\n",
       "      <td>46.4</td>\n",
       "      <td>85.5</td>\n",
       "      <td>0.71</td>\n",
       "    </tr>\n",
       "    <tr>\n",
       "      <th>2</th>\n",
       "      <td>2017-02-04 16:00:00</td>\n",
       "      <td>1 Av</td>\n",
       "      <td>Canarsie</td>\n",
       "      <td>Lower East Side/Chinatown</td>\n",
       "      <td>3880.0</td>\n",
       "      <td>16:00:00</td>\n",
       "      <td>3487.845732</td>\n",
       "      <td>1.112435</td>\n",
       "      <td>78557</td>\n",
       "      <td>31.0</td>\n",
       "      <td>38.1</td>\n",
       "      <td>11.4</td>\n",
       "      <td>1326500</td>\n",
       "      <td>31.8</td>\n",
       "      <td>7.2</td>\n",
       "      <td>46.4</td>\n",
       "      <td>85.5</td>\n",
       "      <td>0.71</td>\n",
       "    </tr>\n",
       "    <tr>\n",
       "      <th>3</th>\n",
       "      <td>2017-02-04 20:00:00</td>\n",
       "      <td>1 Av</td>\n",
       "      <td>Canarsie</td>\n",
       "      <td>Lower East Side/Chinatown</td>\n",
       "      <td>3820.0</td>\n",
       "      <td>20:00:00</td>\n",
       "      <td>3048.494204</td>\n",
       "      <td>1.253078</td>\n",
       "      <td>78557</td>\n",
       "      <td>31.0</td>\n",
       "      <td>38.1</td>\n",
       "      <td>11.4</td>\n",
       "      <td>1326500</td>\n",
       "      <td>31.8</td>\n",
       "      <td>7.2</td>\n",
       "      <td>46.4</td>\n",
       "      <td>85.5</td>\n",
       "      <td>0.71</td>\n",
       "    </tr>\n",
       "    <tr>\n",
       "      <th>4</th>\n",
       "      <td>2017-02-05 00:00:00</td>\n",
       "      <td>1 Av</td>\n",
       "      <td>Canarsie</td>\n",
       "      <td>Lower East Side/Chinatown</td>\n",
       "      <td>2474.0</td>\n",
       "      <td>00:00:00</td>\n",
       "      <td>1051.803429</td>\n",
       "      <td>2.352151</td>\n",
       "      <td>78557</td>\n",
       "      <td>31.0</td>\n",
       "      <td>38.1</td>\n",
       "      <td>11.4</td>\n",
       "      <td>1326500</td>\n",
       "      <td>31.8</td>\n",
       "      <td>7.2</td>\n",
       "      <td>46.4</td>\n",
       "      <td>85.5</td>\n",
       "      <td>0.71</td>\n",
       "    </tr>\n",
       "  </tbody>\n",
       "</table>\n",
       "</div>"
      ],
      "text/plain": [
       "              Datetime Stop Name      Line               Neighborhood  \\\n",
       "0  2017-02-04 08:00:00      1 Av  Canarsie  Lower East Side/Chinatown   \n",
       "1  2017-02-04 12:00:00      1 Av  Canarsie  Lower East Side/Chinatown   \n",
       "2  2017-02-04 16:00:00      1 Av  Canarsie  Lower East Side/Chinatown   \n",
       "3  2017-02-04 20:00:00      1 Av  Canarsie  Lower East Side/Chinatown   \n",
       "4  2017-02-05 00:00:00      1 Av  Canarsie  Lower East Side/Chinatown   \n",
       "\n",
       "   Entries      Time  Average_Flow  Normalized_Flow  Housing units  \\\n",
       "0   1205.0  08:00:00   1893.282754         0.636461          78557   \n",
       "1   2920.0  12:00:00   2555.773227         1.142511          78557   \n",
       "2   3880.0  16:00:00   3487.845732         1.112435          78557   \n",
       "3   3820.0  20:00:00   3048.494204         1.253078          78557   \n",
       "4   2474.0  00:00:00   1051.803429         2.352151          78557   \n",
       "\n",
       "   Percent white  Moderately rent-burdened households, moderate income  \\\n",
       "0           31.0                                               38.1      \n",
       "1           31.0                                               38.1      \n",
       "2           31.0                                               38.1      \n",
       "3           31.0                                               38.1      \n",
       "4           31.0                                               38.1      \n",
       "\n",
       "   Pre-foreclosure notice rate (per 1,000 1-4 family and condo properties)  \\\n",
       "0                                               11.4                         \n",
       "1                                               11.4                         \n",
       "2                                               11.4                         \n",
       "3                                               11.4                         \n",
       "4                                               11.4                         \n",
       "\n",
       "   Median sales price per unit, condominium (2018$)  \\\n",
       "0                                           1326500   \n",
       "1                                           1326500   \n",
       "2                                           1326500   \n",
       "3                                           1326500   \n",
       "4                                           1326500   \n",
       "\n",
       "   Home purchase loans to LMI borrowers (% of home purchase loans)  \\\n",
       "0                                               31.8                 \n",
       "1                                               31.8                 \n",
       "2                                               31.8                 \n",
       "3                                               31.8                 \n",
       "4                                               31.8                 \n",
       "\n",
       "   Refinance loan rate (per 1,000 properties)  Single-person households  \\\n",
       "0                                         7.2                      46.4   \n",
       "1                                         7.2                      46.4   \n",
       "2                                         7.2                      46.4   \n",
       "3                                         7.2                      46.4   \n",
       "4                                         7.2                      46.4   \n",
       "\n",
       "   Residential units within 12 mile of a subway station  \\\n",
       "0                                               85.5      \n",
       "1                                               85.5      \n",
       "2                                               85.5      \n",
       "3                                               85.5      \n",
       "4                                               85.5      \n",
       "\n",
       "   Racial diversity index  \n",
       "0                    0.71  \n",
       "1                    0.71  \n",
       "2                    0.71  \n",
       "3                    0.71  \n",
       "4                    0.71  "
      ]
     },
     "execution_count": 4,
     "metadata": {},
     "output_type": "execute_result"
    }
   ],
   "source": [
    "data.head()"
   ]
  },
  {
   "cell_type": "code",
   "execution_count": 5,
   "id": "b3e59c2a",
   "metadata": {},
   "outputs": [
    {
     "name": "stdout",
     "output_type": "stream",
     "text": [
      "10\n"
     ]
    }
   ],
   "source": [
    "data['Datetime'] = pd.to_datetime(data['Datetime'], format='%Y-%m-%d %H:%M:%S')\n",
    "y = data.iloc[:,6] #Normalized_Flow \n",
    "X = data.iloc[:,8:18] #Housing units - Racial diversity index\n",
    "independent_variables = data.iloc[:,8:18]\n",
    "print(independent_variables.shape[1])"
   ]
  },
  {
   "cell_type": "code",
   "execution_count": 6,
   "id": "93e39ddb",
   "metadata": {},
   "outputs": [
    {
     "name": "stdout",
     "output_type": "stream",
     "text": [
      "(4589380, 18)\n"
     ]
    }
   ],
   "source": [
    "print(data.shape)  "
   ]
  },
  {
   "cell_type": "markdown",
   "id": "1b973394",
   "metadata": {},
   "source": [
    "The first model we used in our analysis was linear regression. We initially applied Multiple Linear Regression using simple Ordinary Least Squares on the data, with average flow as the dependent variable and ten selected features as the independent variables. Despite obtaining a low R-squared score of 17.6%, all feature variables had statistically significant p-values of zero. This is indicative of something important missing - that average flow changes every four hours but the features do not. In fact, there are only six values for the whole year for each station. "
   ]
  },
  {
   "cell_type": "code",
   "execution_count": 7,
   "id": "73dbd6f7",
   "metadata": {},
   "outputs": [
    {
     "name": "stdout",
     "output_type": "stream",
     "text": [
      "                            OLS Regression Results                            \n",
      "==============================================================================\n",
      "Dep. Variable:           Average_Flow   R-squared:                       0.176\n",
      "Model:                            OLS   Adj. R-squared:                  0.176\n",
      "Method:                 Least Squares   F-statistic:                 9.775e+04\n",
      "Date:                Sun, 17 Dec 2023   Prob (F-statistic):               0.00\n",
      "Time:                        19:13:22   Log-Likelihood:            -3.9624e+07\n",
      "No. Observations:             4589380   AIC:                         7.925e+07\n",
      "Df Residuals:                 4589369   BIC:                         7.925e+07\n",
      "Df Model:                          10                                         \n",
      "Covariance Type:            nonrobust                                         \n",
      "===========================================================================================================================================\n",
      "                                                                              coef    std err          t      P>|t|      [0.025      0.975]\n",
      "-------------------------------------------------------------------------------------------------------------------------------------------\n",
      "const                                                                     688.4475     10.257     67.118      0.000     668.344     708.551\n",
      "Housing units                                                               0.0145   4.97e-05    290.505      0.000       0.014       0.015\n",
      "Percent white                                                              -7.8796      0.059   -133.890      0.000      -7.995      -7.764\n",
      "Moderately rent-burdened households, moderate income                       24.3719      0.106    229.624      0.000      24.164      24.580\n",
      "Pre-foreclosure notice rate (per 1,000 1-4 family and condo properties)     0.8094      0.043     19.032      0.000       0.726       0.893\n",
      "Median sales price per unit, condominium (2018$)                         6.864e-05   2.64e-06     26.001      0.000    6.35e-05    7.38e-05\n",
      "Home purchase loans to LMI borrowers (% of home purchase loans)            -0.3441      0.043     -7.913      0.000      -0.429      -0.259\n",
      "Refinance loan rate (per 1,000 properties)                                -51.4232      0.274   -187.821      0.000     -51.960     -50.887\n",
      "Single-person households                                                    9.5180      0.096     99.295      0.000       9.330       9.706\n",
      "Residential units within 12 mile of a subway station                       -6.0144      0.054   -111.547      0.000      -6.120      -5.909\n",
      "Racial diversity index                                                   -314.9846      9.413    -33.461      0.000    -333.435    -296.535\n",
      "==============================================================================\n",
      "Omnibus:                  2533445.388   Durbin-Watson:                   0.831\n",
      "Prob(Omnibus):                  0.000   Jarque-Bera (JB):         31472039.608\n",
      "Skew:                           2.412   Prob(JB):                         0.00\n",
      "Kurtosis:                      14.887   Cond. No.                     2.40e+07\n",
      "==============================================================================\n",
      "\n",
      "Notes:\n",
      "[1] Standard Errors assume that the covariance matrix of the errors is correctly specified.\n",
      "[2] The condition number is large, 2.4e+07. This might indicate that there are\n",
      "strong multicollinearity or other numerical problems.\n"
     ]
    }
   ],
   "source": [
    "y = data.iloc[:,6] #Normalized_Flow \n",
    "X = data.iloc[:,8:18] #Housing units - Racial diversity index\n",
    "\n",
    "# Add a constant term to the independent variable (X)\n",
    "X_new = sm.add_constant(X)\n",
    "\n",
    "# Fit the linear regression model\n",
    "model = sm.OLS(y, X_new).fit()\n",
    "print(model.summary())\n",
    "\n"
   ]
  },
  {
   "cell_type": "code",
   "execution_count": 8,
   "id": "b485863c",
   "metadata": {},
   "outputs": [
    {
     "name": "stdout",
     "output_type": "stream",
     "text": [
      "                            OLS Regression Results                            \n",
      "==============================================================================\n",
      "Dep. Variable:                      y   R-squared:                       0.000\n",
      "Model:                            OLS   Adj. R-squared:                 -0.000\n",
      "Method:                 Least Squares   F-statistic:                 2.114e-10\n",
      "Date:                Sun, 17 Dec 2023   Prob (F-statistic):               1.00\n",
      "Time:                        19:13:27   Log-Likelihood:            -3.9624e+07\n",
      "No. Observations:             4589380   AIC:                         7.925e+07\n",
      "Df Residuals:                 4589369   BIC:                         7.925e+07\n",
      "Df Model:                          10                                         \n",
      "Covariance Type:            nonrobust                                         \n",
      "===========================================================================================================================================\n",
      "                                                                              coef    std err          t      P>|t|      [0.025      0.975]\n",
      "-------------------------------------------------------------------------------------------------------------------------------------------\n",
      "const                                                                    3.417e-09     10.257   3.33e-10      1.000     -20.104      20.104\n",
      "Housing units                                                           -1.278e-13   4.97e-05  -2.57e-09      1.000   -9.75e-05    9.75e-05\n",
      "Percent white                                                            3.364e-11      0.059   5.72e-10      1.000      -0.115       0.115\n",
      "Moderately rent-burdened households, moderate income                     3.842e-11      0.106   3.62e-10      1.000      -0.208       0.208\n",
      "Pre-foreclosure notice rate (per 1,000 1-4 family and condo properties)  4.952e-11      0.043   1.16e-09      1.000      -0.083       0.083\n",
      "Median sales price per unit, condominium (2018$)                         1.264e-15   2.64e-06   4.79e-10      1.000   -5.17e-06    5.17e-06\n",
      "Home purchase loans to LMI borrowers (% of home purchase loans)          -2.26e-12      0.043   -5.2e-11      1.000      -0.085       0.085\n",
      "Refinance loan rate (per 1,000 properties)                              -1.357e-10      0.274  -4.96e-10      1.000      -0.537       0.537\n",
      "Single-person households                                                 9.361e-11      0.096   9.77e-10      1.000      -0.188       0.188\n",
      "Residential units within 12 mile of a subway station                    -1.602e-11      0.054  -2.97e-10      1.000      -0.106       0.106\n",
      "Racial diversity index                                                  -1.243e-09      9.413  -1.32e-10      1.000     -18.450      18.450\n",
      "==============================================================================\n",
      "Omnibus:                  2533445.388   Durbin-Watson:                   0.831\n",
      "Prob(Omnibus):                  0.000   Jarque-Bera (JB):         31472039.608\n",
      "Skew:                           2.412   Prob(JB):                         0.00\n",
      "Kurtosis:                      14.887   Cond. No.                     2.40e+07\n",
      "==============================================================================\n",
      "\n",
      "Notes:\n",
      "[1] Standard Errors assume that the covariance matrix of the errors is correctly specified.\n",
      "[2] The condition number is large, 2.4e+07. This might indicate that there are\n",
      "strong multicollinearity or other numerical problems.\n"
     ]
    }
   ],
   "source": [
    "residuals = model.resid\n",
    "model2 = sm.OLS(residuals, X_new).fit()\n",
    "print(model2.summary())"
   ]
  },
  {
   "cell_type": "markdown",
   "id": "d145386f",
   "metadata": {},
   "source": []
  },
  {
   "cell_type": "code",
   "execution_count": 9,
   "id": "f3f34701",
   "metadata": {},
   "outputs": [
    {
     "name": "stdout",
     "output_type": "stream",
     "text": [
      "                                 OLS Regression Results                                \n",
      "=======================================================================================\n",
      "Dep. Variable:           Average_Flow   R-squared (uncentered):                   0.504\n",
      "Model:                            OLS   Adj. R-squared (uncentered):              0.504\n",
      "Method:                 Least Squares   F-statistic:                          3.729e+05\n",
      "Date:                Sun, 17 Dec 2023   Prob (F-statistic):                        0.00\n",
      "Time:                        19:13:35   Log-Likelihood:                     -3.1702e+07\n",
      "No. Observations:             3671504   AIC:                                  6.340e+07\n",
      "Df Residuals:                 3671494   BIC:                                  6.340e+07\n",
      "Df Model:                          10                                                  \n",
      "Covariance Type:            nonrobust                                                  \n",
      "===========================================================================================================================================\n",
      "                                                                              coef    std err          t      P>|t|      [0.025      0.975]\n",
      "-------------------------------------------------------------------------------------------------------------------------------------------\n",
      "Housing units                                                               0.0161   4.81e-05    335.838      0.000       0.016       0.016\n",
      "Percent white                                                              -6.0510      0.058   -103.940      0.000      -6.165      -5.937\n",
      "Moderately rent-burdened households, moderate income                       23.1245      0.117    197.641      0.000      22.895      23.354\n",
      "Pre-foreclosure notice rate (per 1,000 1-4 family and condo properties)     2.1944      0.042     52.674      0.000       2.113       2.276\n",
      "Median sales price per unit, condominium (2018$)                            0.0001   2.88e-06     38.198      0.000       0.000       0.000\n",
      "Home purchase loans to LMI borrowers (% of home purchase loans)             0.6753      0.046     14.755      0.000       0.586       0.765\n",
      "Refinance loan rate (per 1,000 properties)                                -51.8913      0.306   -169.373      0.000     -52.492     -51.291\n",
      "Single-person households                                                    9.2826      0.107     86.589      0.000       9.072       9.493\n",
      "Residential units within 12 mile of a subway station                       -4.9468      0.057    -86.056      0.000      -5.059      -4.834\n",
      "Racial diversity index                                                    223.3811      5.612     39.801      0.000     212.381     234.381\n",
      "==============================================================================\n",
      "Omnibus:                  2018506.793   Durbin-Watson:                   1.999\n",
      "Prob(Omnibus):                  0.000   Jarque-Bera (JB):         24899443.678\n",
      "Skew:                           2.401   Prob(JB):                         0.00\n",
      "Kurtosis:                      14.819   Cond. No.                     8.99e+06\n",
      "==============================================================================\n",
      "\n",
      "Notes:\n",
      "[1] R² is computed without centering (uncentered) since the model does not contain a constant.\n",
      "[2] Standard Errors assume that the covariance matrix of the errors is correctly specified.\n",
      "[3] The condition number is large, 8.99e+06. This might indicate that there are\n",
      "strong multicollinearity or other numerical problems.\n",
      "For a linear model, the R square value based on the training data is 0.17539445138462528\n",
      "For a linear model, the R square value based on the testing data is 0.1763728136184214\n"
     ]
    }
   ],
   "source": [
    "X_train, X_test, y_train, y_test = train_test_split(X,y,test_size=0.2)\n",
    "sm_model = sm.OLS(y_train, X_train).fit()\n",
    "print(sm_model.summary())\n",
    "\n",
    "lr = LinearRegression()\n",
    "lr.fit(X_train, y_train)\n",
    "print(\"For a linear model, the R square value based on the training data is\", lr.score(X_train, y_train))\n",
    "print(\"For a linear model, the R square value based on the testing data is\", lr.score(X_test,y_test))"
   ]
  },
  {
   "cell_type": "code",
   "execution_count": 10,
   "id": "ed34d6b6",
   "metadata": {},
   "outputs": [
    {
     "name": "stdout",
     "output_type": "stream",
     "text": [
      "698.152540116919\n",
      "[ 1.44314776e-02 -7.92021147e+00  2.43684542e+01  7.96092693e-01\n",
      "  7.12565292e-05 -3.28629675e-01 -5.14837414e+01  9.46420015e+00\n",
      " -6.05758220e+00 -3.18928372e+02]\n"
     ]
    }
   ],
   "source": [
    "c = lr.intercept_\n",
    "m = lr.coef_\n",
    "print(c)\n",
    "print(m)"
   ]
  },
  {
   "cell_type": "code",
   "execution_count": 11,
   "id": "4e6dc6b0",
   "metadata": {},
   "outputs": [],
   "source": [
    "y_pred_train = lr.predict(X_train)"
   ]
  },
  {
   "cell_type": "code",
   "execution_count": 13,
   "id": "07e260c9",
   "metadata": {},
   "outputs": [
    {
     "data": {
      "text/plain": [
       "0.17539445138462528"
      ]
     },
     "execution_count": 13,
     "metadata": {},
     "output_type": "execute_result"
    }
   ],
   "source": [
    "r2_score(y_train, y_pred_train)"
   ]
  },
  {
   "cell_type": "code",
   "execution_count": 14,
   "id": "250acb7c",
   "metadata": {},
   "outputs": [
    {
     "name": "stdout",
     "output_type": "stream",
     "text": [
      "           0     1     2      3          4     5     6     7      8     9\n",
      "0    78557.0  31.0  38.1   11.4  1326500.0  31.8   7.2  46.4   85.5  0.71\n",
      "1    78557.0  31.0  38.1   11.4  1326500.0  31.8   7.2  46.4   85.5  0.71\n",
      "2    87668.0  72.2  42.3    5.8  2413920.0   1.5   9.2  47.5  100.0  0.45\n",
      "3    87668.0  72.2  42.3    5.8  2413920.0   1.5   9.2  47.5  100.0  0.45\n",
      "4    65828.0   3.9  10.0  110.3   308780.0  58.5  18.0  32.0   71.2  0.57\n",
      "..       ...   ...   ...    ...        ...   ...   ...   ...    ...   ...\n",
      "435  68927.0  50.1   9.9   36.5   463680.0   8.4  14.1  20.1   39.7  0.59\n",
      "436  68927.0  50.1   9.9   36.5   463680.0   8.4  14.1  20.1   39.7  0.59\n",
      "437  68927.0  50.1   9.9   36.5   463680.0   8.4  14.1  20.1   39.7  0.59\n",
      "438  68927.0  50.1   9.9   36.5   463680.0   8.4  14.1  20.1   39.7  0.59\n",
      "439  51437.0  21.5  26.4   91.2   662740.0  97.4  15.0  26.0   97.9  0.63\n",
      "\n",
      "[440 rows x 10 columns]\n",
      "               0\n",
      "0    2058.808809\n",
      "1     734.541892\n",
      "2     339.389812\n",
      "3    2624.074470\n",
      "4     411.997358\n",
      "..           ...\n",
      "435   437.221097\n",
      "436   603.042601\n",
      "437   304.734201\n",
      "438   286.615851\n",
      "439  2419.841255\n",
      "\n",
      "[440 rows x 1 columns]\n"
     ]
    }
   ],
   "source": [
    "Lines = data['Line'].unique()\n",
    "\n",
    "training_results = []\n",
    "\n",
    "Xs = [] #Each X is a row of the matrix, next station next row\n",
    "Ys = [] #There's only one Y in each station \n",
    "\n",
    "i = 0\n",
    "for line in Lines:\n",
    "    Stops = data[data['Line'] == line]['Stop Name'].unique()  #Stops  \n",
    "    for stop in Stops:\n",
    "        data_filtered = data[(data['Stop Name'] == stop) & (data['Line'] == line)]        \n",
    "        if not data_filtered.empty:\n",
    "            X = data_filtered.iloc[:, 8:18].mean().tolist()  # Convert mean values to a list\n",
    "            Xs.append(X)\n",
    "            y = data_filtered.iloc[:,6].mean().tolist()\n",
    "            Ys.append(y)\n",
    "        \n",
    "Xs_matrix = pd.DataFrame(Xs)\n",
    "Ys_column = pd.DataFrame(Ys)\n",
    "\n",
    "        \n",
    "print(Xs_matrix)\n",
    "print(Ys_column)\n"
   ]
  },
  {
   "cell_type": "markdown",
   "id": "531147e2",
   "metadata": {},
   "source": [
    "The model has improved as the r-squared score of test set is now 34.3%. "
   ]
  },
  {
   "cell_type": "code",
   "execution_count": 15,
   "id": "b61bd50f",
   "metadata": {},
   "outputs": [
    {
     "name": "stdout",
     "output_type": "stream",
     "text": [
      "R2 Score for testing data: 0.3433030468387501\n"
     ]
    }
   ],
   "source": [
    "Xs_matrix_new = np.c_[np.ones(Xs_matrix.shape[0]), Xs_matrix]\n",
    "\n",
    "X = Xs_matrix_new\n",
    "y = Ys_column\n",
    "\n",
    "X_train, X_test, y_train, y_test = train_test_split(X, y, test_size=0.2, random_state=42)\n",
    "\n",
    "# Initialize the linear regression model\n",
    "model = LinearRegression()\n",
    "\n",
    "# Fit the model to the training data\n",
    "model.fit(X_train, y_train)\n",
    "\n",
    "# Make predictions on the test data\n",
    "y_pred = model.predict(X_test)\n",
    "\n",
    "#print(f\"R2 Score for training data: {r2_score(y_train, y_pred)}\")\n",
    "print(f\"R2 Score for testing data: {r2_score(y_test, y_pred)}\")\n"
   ]
  },
  {
   "cell_type": "code",
   "execution_count": 17,
   "id": "02b07549",
   "metadata": {},
   "outputs": [
    {
     "name": "stdout",
     "output_type": "stream",
     "text": [
      "For a linear model, the R square value based on the training data is 0.33041715408846006\n",
      "For a linear model, the R square value based on the testing data is 0.3433030468387501\n"
     ]
    }
   ],
   "source": [
    "print(\"For a linear model, the R square value based on the training data is\", model.score(X_train, y_train))\n",
    "print(\"For a linear model, the R square value based on the testing data is\", model.score(X_test,y_test))"
   ]
  },
  {
   "cell_type": "code",
   "execution_count": null,
   "id": "96b23c68",
   "metadata": {},
   "outputs": [],
   "source": []
  }
 ],
 "metadata": {
  "kernelspec": {
   "display_name": "Python 3 (ipykernel)",
   "language": "python",
   "name": "python3"
  },
  "language_info": {
   "codemirror_mode": {
    "name": "ipython",
    "version": 3
   },
   "file_extension": ".py",
   "mimetype": "text/x-python",
   "name": "python",
   "nbconvert_exporter": "python",
   "pygments_lexer": "ipython3",
   "version": "3.11.4"
  }
 },
 "nbformat": 4,
 "nbformat_minor": 5
}
